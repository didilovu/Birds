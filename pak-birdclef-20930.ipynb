{
 "cells": [
  {
   "cell_type": "code",
   "execution_count": 1,
   "id": "bfe34f72",
   "metadata": {
    "_cell_guid": "b1076dfc-b9ad-4769-8c92-a6c4dae69d19",
    "_uuid": "8f2839f25d086af736a60e9eeb907d3b93b6e0e5",
    "execution": {
     "iopub.execute_input": "2023-05-03T14:13:15.191712Z",
     "iopub.status.busy": "2023-05-03T14:13:15.191298Z",
     "iopub.status.idle": "2023-05-03T14:13:16.953600Z",
     "shell.execute_reply": "2023-05-03T14:13:16.952689Z"
    },
    "papermill": {
     "duration": 1.772491,
     "end_time": "2023-05-03T14:13:16.956020",
     "exception": false,
     "start_time": "2023-05-03T14:13:15.183529",
     "status": "completed"
    },
    "tags": []
   },
   "outputs": [],
   "source": [
    "import json\n",
    "import os\n",
    "import random\n",
    "\n",
    "import numpy as np\n",
    "import pandas as pd\n",
    "import torch\n",
    "import torch.nn as nn\n",
    "import torchaudio\n",
    "import torchaudio.transforms as T\n",
    "from torchvision.models.resnet import ResNet, BasicBlock"
   ]
  },
  {
   "cell_type": "code",
   "execution_count": 2,
   "id": "64f33c34",
   "metadata": {
    "execution": {
     "iopub.execute_input": "2023-05-03T14:13:16.968349Z",
     "iopub.status.busy": "2023-05-03T14:13:16.967632Z",
     "iopub.status.idle": "2023-05-03T14:13:17.174300Z",
     "shell.execute_reply": "2023-05-03T14:13:17.173479Z"
    },
    "papermill": {
     "duration": 0.215173,
     "end_time": "2023-05-03T14:13:17.176506",
     "exception": false,
     "start_time": "2023-05-03T14:13:16.961333",
     "status": "completed"
    },
    "tags": []
   },
   "outputs": [
    {
     "name": "stdout",
     "output_type": "stream",
     "text": [
      "Using cuda device\n"
     ]
    }
   ],
   "source": [
    "# Check device\n",
    "device = \"cuda\" if torch.cuda.is_available() else \"cpu\"\n",
    "print(f\"Using {device} device\")\n",
    "\n",
    "# Prepare paths\n",
    "root_path = \"../input/birdclef-2022/\"\n",
    "input_path = root_path + '/train_audio/'\n",
    "\n",
    "# Read dataset and labels\n",
    "train_meta = pd.read_csv(root_path + 'train_metadata.csv')\n",
    "with open(root_path + '/scored_birds.json') as sbfile:\n",
    "    scored_birds = json.load(sbfile)\n",
    "\n",
    "# bird_label = train_meta[\"primary_label\"].unique()\n",
    "bird_label = np.asarray(scored_birds)\n",
    "\n",
    "# Preprocessing data\n",
    "sample_rate = 32000\n",
    "n_fft = 2048\n",
    "win_length = None\n",
    "hop_length = 1024\n",
    "n_mels = 128\n",
    "min_sec_proc = sample_rate*5\n",
    "\n",
    "mel_spectrogram = T.MelSpectrogram(\n",
    "    sample_rate=sample_rate,\n",
    "    n_fft=n_fft,\n",
    "    win_length=win_length,\n",
    "    hop_length=hop_length,\n",
    "    center=True,\n",
    "    pad_mode=\"reflect\",\n",
    "    power=2.0,\n",
    "    norm='slaney',\n",
    "    onesided=True,\n",
    "    n_mels=n_mels,\n",
    "    mel_scale=\"htk\",\n",
    ")"
   ]
  },
  {
   "cell_type": "code",
   "execution_count": 3,
   "id": "6d2d9c23",
   "metadata": {
    "execution": {
     "iopub.execute_input": "2023-05-03T14:13:17.188551Z",
     "iopub.status.busy": "2023-05-03T14:13:17.188334Z",
     "iopub.status.idle": "2023-05-03T14:13:17.198677Z",
     "shell.execute_reply": "2023-05-03T14:13:17.198014Z"
    },
    "papermill": {
     "duration": 0.018331,
     "end_time": "2023-05-03T14:13:17.200563",
     "exception": false,
     "start_time": "2023-05-03T14:13:17.182232",
     "status": "completed"
    },
    "tags": []
   },
   "outputs": [],
   "source": [
    "# Set pseudo randomize\n",
    "def torch_fix_seed(seed=42):\n",
    "    # Python random\n",
    "    random.seed(seed)\n",
    "    # Numpy\n",
    "    np.random.seed(seed)\n",
    "    # Pytorch\n",
    "    torch.manual_seed(seed)\n",
    "    torch.cuda.manual_seed(seed)\n",
    "    torch.backends.cudnn.deterministic = True\n",
    "    torch.use_deterministic_algorithms = True\n",
    "\n",
    "torch_fix_seed()"
   ]
  },
  {
   "cell_type": "code",
   "execution_count": 4,
   "id": "91281857",
   "metadata": {
    "execution": {
     "iopub.execute_input": "2023-05-03T14:13:17.212507Z",
     "iopub.status.busy": "2023-05-03T14:13:17.211890Z",
     "iopub.status.idle": "2023-05-03T14:13:20.515878Z",
     "shell.execute_reply": "2023-05-03T14:13:20.514946Z"
    },
    "papermill": {
     "duration": 3.311635,
     "end_time": "2023-05-03T14:13:20.517444",
     "exception": true,
     "start_time": "2023-05-03T14:13:17.205809",
     "status": "failed"
    },
    "tags": []
   },
   "outputs": [
    {
     "ename": "FileNotFoundError",
     "evalue": "[Errno 2] No such file or directory: '../input/weights-v6/model (1).pt'",
     "output_type": "error",
     "traceback": [
      "\u001b[0;31m---------------------------------------------------------------------------\u001b[0m",
      "\u001b[0;31mFileNotFoundError\u001b[0m                         Traceback (most recent call last)",
      "\u001b[0;32m/tmp/ipykernel_22/4281322476.py\u001b[0m in \u001b[0;36m<module>\u001b[0;34m\u001b[0m\n\u001b[1;32m     38\u001b[0m \u001b[0mnet\u001b[0m \u001b[0;34m=\u001b[0m \u001b[0mResNetBird\u001b[0m\u001b[0;34m(\u001b[0m\u001b[0;34m)\u001b[0m\u001b[0;34m.\u001b[0m\u001b[0mto\u001b[0m\u001b[0;34m(\u001b[0m\u001b[0mdevice\u001b[0m\u001b[0;34m)\u001b[0m\u001b[0;34m\u001b[0m\u001b[0;34m\u001b[0m\u001b[0m\n\u001b[1;32m     39\u001b[0m \u001b[0;34m\u001b[0m\u001b[0m\n\u001b[0;32m---> 40\u001b[0;31m \u001b[0mnet\u001b[0m\u001b[0;34m.\u001b[0m\u001b[0mload_state_dict\u001b[0m\u001b[0;34m(\u001b[0m\u001b[0mtorch\u001b[0m\u001b[0;34m.\u001b[0m\u001b[0mload\u001b[0m\u001b[0;34m(\u001b[0m\u001b[0;34m'../input/weights-v6/model (1).pt'\u001b[0m\u001b[0;34m)\u001b[0m\u001b[0;34m)\u001b[0m\u001b[0;34m\u001b[0m\u001b[0;34m\u001b[0m\u001b[0m\n\u001b[0m\u001b[1;32m     41\u001b[0m \u001b[0mout_sigmoid\u001b[0m \u001b[0;34m=\u001b[0m \u001b[0mnn\u001b[0m\u001b[0;34m.\u001b[0m\u001b[0mSigmoid\u001b[0m\u001b[0;34m(\u001b[0m\u001b[0;34m)\u001b[0m\u001b[0;34m\u001b[0m\u001b[0;34m\u001b[0m\u001b[0m\n\u001b[1;32m     42\u001b[0m \u001b[0;34m\u001b[0m\u001b[0m\n",
      "\u001b[0;32m/opt/conda/lib/python3.7/site-packages/torch/serialization.py\u001b[0m in \u001b[0;36mload\u001b[0;34m(f, map_location, pickle_module, **pickle_load_args)\u001b[0m\n\u001b[1;32m    697\u001b[0m         \u001b[0mpickle_load_args\u001b[0m\u001b[0;34m[\u001b[0m\u001b[0;34m'encoding'\u001b[0m\u001b[0;34m]\u001b[0m \u001b[0;34m=\u001b[0m \u001b[0;34m'utf-8'\u001b[0m\u001b[0;34m\u001b[0m\u001b[0;34m\u001b[0m\u001b[0m\n\u001b[1;32m    698\u001b[0m \u001b[0;34m\u001b[0m\u001b[0m\n\u001b[0;32m--> 699\u001b[0;31m     \u001b[0;32mwith\u001b[0m \u001b[0m_open_file_like\u001b[0m\u001b[0;34m(\u001b[0m\u001b[0mf\u001b[0m\u001b[0;34m,\u001b[0m \u001b[0;34m'rb'\u001b[0m\u001b[0;34m)\u001b[0m \u001b[0;32mas\u001b[0m \u001b[0mopened_file\u001b[0m\u001b[0;34m:\u001b[0m\u001b[0;34m\u001b[0m\u001b[0;34m\u001b[0m\u001b[0m\n\u001b[0m\u001b[1;32m    700\u001b[0m         \u001b[0;32mif\u001b[0m \u001b[0m_is_zipfile\u001b[0m\u001b[0;34m(\u001b[0m\u001b[0mopened_file\u001b[0m\u001b[0;34m)\u001b[0m\u001b[0;34m:\u001b[0m\u001b[0;34m\u001b[0m\u001b[0;34m\u001b[0m\u001b[0m\n\u001b[1;32m    701\u001b[0m             \u001b[0;31m# The zipfile reader is going to advance the current file position.\u001b[0m\u001b[0;34m\u001b[0m\u001b[0;34m\u001b[0m\u001b[0;34m\u001b[0m\u001b[0m\n",
      "\u001b[0;32m/opt/conda/lib/python3.7/site-packages/torch/serialization.py\u001b[0m in \u001b[0;36m_open_file_like\u001b[0;34m(name_or_buffer, mode)\u001b[0m\n\u001b[1;32m    229\u001b[0m \u001b[0;32mdef\u001b[0m \u001b[0m_open_file_like\u001b[0m\u001b[0;34m(\u001b[0m\u001b[0mname_or_buffer\u001b[0m\u001b[0;34m,\u001b[0m \u001b[0mmode\u001b[0m\u001b[0;34m)\u001b[0m\u001b[0;34m:\u001b[0m\u001b[0;34m\u001b[0m\u001b[0;34m\u001b[0m\u001b[0m\n\u001b[1;32m    230\u001b[0m     \u001b[0;32mif\u001b[0m \u001b[0m_is_path\u001b[0m\u001b[0;34m(\u001b[0m\u001b[0mname_or_buffer\u001b[0m\u001b[0;34m)\u001b[0m\u001b[0;34m:\u001b[0m\u001b[0;34m\u001b[0m\u001b[0;34m\u001b[0m\u001b[0m\n\u001b[0;32m--> 231\u001b[0;31m         \u001b[0;32mreturn\u001b[0m \u001b[0m_open_file\u001b[0m\u001b[0;34m(\u001b[0m\u001b[0mname_or_buffer\u001b[0m\u001b[0;34m,\u001b[0m \u001b[0mmode\u001b[0m\u001b[0;34m)\u001b[0m\u001b[0;34m\u001b[0m\u001b[0;34m\u001b[0m\u001b[0m\n\u001b[0m\u001b[1;32m    232\u001b[0m     \u001b[0;32melse\u001b[0m\u001b[0;34m:\u001b[0m\u001b[0;34m\u001b[0m\u001b[0;34m\u001b[0m\u001b[0m\n\u001b[1;32m    233\u001b[0m         \u001b[0;32mif\u001b[0m \u001b[0;34m'w'\u001b[0m \u001b[0;32min\u001b[0m \u001b[0mmode\u001b[0m\u001b[0;34m:\u001b[0m\u001b[0;34m\u001b[0m\u001b[0;34m\u001b[0m\u001b[0m\n",
      "\u001b[0;32m/opt/conda/lib/python3.7/site-packages/torch/serialization.py\u001b[0m in \u001b[0;36m__init__\u001b[0;34m(self, name, mode)\u001b[0m\n\u001b[1;32m    210\u001b[0m \u001b[0;32mclass\u001b[0m \u001b[0m_open_file\u001b[0m\u001b[0;34m(\u001b[0m\u001b[0m_opener\u001b[0m\u001b[0;34m)\u001b[0m\u001b[0;34m:\u001b[0m\u001b[0;34m\u001b[0m\u001b[0;34m\u001b[0m\u001b[0m\n\u001b[1;32m    211\u001b[0m     \u001b[0;32mdef\u001b[0m \u001b[0m__init__\u001b[0m\u001b[0;34m(\u001b[0m\u001b[0mself\u001b[0m\u001b[0;34m,\u001b[0m \u001b[0mname\u001b[0m\u001b[0;34m,\u001b[0m \u001b[0mmode\u001b[0m\u001b[0;34m)\u001b[0m\u001b[0;34m:\u001b[0m\u001b[0;34m\u001b[0m\u001b[0;34m\u001b[0m\u001b[0m\n\u001b[0;32m--> 212\u001b[0;31m         \u001b[0msuper\u001b[0m\u001b[0;34m(\u001b[0m\u001b[0m_open_file\u001b[0m\u001b[0;34m,\u001b[0m \u001b[0mself\u001b[0m\u001b[0;34m)\u001b[0m\u001b[0;34m.\u001b[0m\u001b[0m__init__\u001b[0m\u001b[0;34m(\u001b[0m\u001b[0mopen\u001b[0m\u001b[0;34m(\u001b[0m\u001b[0mname\u001b[0m\u001b[0;34m,\u001b[0m \u001b[0mmode\u001b[0m\u001b[0;34m)\u001b[0m\u001b[0;34m)\u001b[0m\u001b[0;34m\u001b[0m\u001b[0;34m\u001b[0m\u001b[0m\n\u001b[0m\u001b[1;32m    213\u001b[0m \u001b[0;34m\u001b[0m\u001b[0m\n\u001b[1;32m    214\u001b[0m     \u001b[0;32mdef\u001b[0m \u001b[0m__exit__\u001b[0m\u001b[0;34m(\u001b[0m\u001b[0mself\u001b[0m\u001b[0;34m,\u001b[0m \u001b[0;34m*\u001b[0m\u001b[0margs\u001b[0m\u001b[0;34m)\u001b[0m\u001b[0;34m:\u001b[0m\u001b[0;34m\u001b[0m\u001b[0;34m\u001b[0m\u001b[0m\n",
      "\u001b[0;31mFileNotFoundError\u001b[0m: [Errno 2] No such file or directory: '../input/weights-v6/model (1).pt'"
     ]
    }
   ],
   "source": [
    "# Create spectrogramm for audio files\n",
    "def audio_to_mel_label(filepath,\n",
    "                       min_sec_proc,\n",
    "                       mode='train',\n",
    "                       data_index=0,\n",
    "                       label_list=[],\n",
    "                       bird_label=[],\n",
    "                       label_file=[],\n",
    "                       mel_list=[]):\n",
    "\n",
    "    waveform, sample_rate_file = torchaudio.load(filepath=filepath)\n",
    "    len_wav = waveform.shape[1]\n",
    "    waveform = waveform[0, :].reshape(1, len_wav)  # stereo->mono mono->mono\n",
    "    if not len_wav < min_sec_proc * 12:\n",
    "        waveform = torch.cat((waveform, waveform[:, 0:len_wav]), 1)\n",
    "        len_wav = min_sec_proc * 12\n",
    "        waveform = waveform[:, 0:len_wav]\n",
    "\n",
    "    for index in range(int(len_wav / min_sec_proc)):\n",
    "        log_melspec = torch.log10(\n",
    "            mel_spectrogram(waveform[0, index * min_sec_proc:index * min_sec_proc + min_sec_proc]).reshape(1, 128,\n",
    "\n",
    "  157) + 1e-10)\n",
    "        log_melspec = (log_melspec - torch.mean(log_melspec)) / torch.std(log_melspec)\n",
    "\n",
    "        mel_list.append(log_melspec)\n",
    "\n",
    "    return mel_list\n",
    "\n",
    "\n",
    "class ResNetBird(ResNet):\n",
    "    def __init__(self):\n",
    "        super().__init__(BasicBlock, [4, 8, 6, 4], num_classes=21)\n",
    "\n",
    "        self.conv1 = nn.Conv2d(1, 64, kernel_size=7, stride=1, padding=3, bias=False)\n",
    "\n",
    "\n",
    "net = ResNetBird().to(device)\n",
    "\n",
    "net.load_state_dict(torch.load('../input/weights-v6/model (1).pt'))\n",
    "out_sigmoid = nn.Sigmoid()\n",
    "\n",
    "test_audio_dir = root_path + '/test_soundscapes/'\n",
    "file_list = [f.split('.')[0] for f in sorted(os.listdir(test_audio_dir))]\n",
    "\n",
    "pred = {'row_id': [], 'target': []}\n",
    "binary_th = 5e-8\n",
    "net.eval()\n",
    "\n",
    "for afile in file_list:\n",
    "\n",
    "    path = test_audio_dir + afile + '.ogg'\n",
    "\n",
    "    chunks = [[] for i in range(12)]\n",
    "\n",
    "    mel_list_test = []\n",
    "    mel_list_test = audio_to_mel_label(path, min_sec_proc, 'test', mel_list=mel_list_test)\n",
    "    mel_list_test = torch.stack(mel_list_test).to(device)\n",
    "\n",
    "    outputs = net(mel_list_test)\n",
    "\n",
    "    outputs_test = out_sigmoid(outputs)\n",
    "\n",
    "    for idx, i in enumerate(range(len(chunks))):\n",
    "        chunk_end_time = (i + 1) * 5\n",
    "        for bird in scored_birds:\n",
    "\n",
    "            try:\n",
    "                score = outputs_test[idx][np.where(bird_label == bird)]\n",
    "            except IndexError:\n",
    "                score = 0\n",
    "\n",
    "            row_id = afile + '_' + bird + '_' + str(chunk_end_time)\n",
    "\n",
    "            pred['row_id'].append(row_id)\n",
    "            pred['target'].append(True if score > binary_th else False)\n",
    "\n",
    "results = pd.DataFrame(pred, columns=['row_id', 'target'])\n",
    "\n",
    "print(results)\n",
    "\n",
    "results.to_csv(\"./submission.csv\", index=False)"
   ]
  },
  {
   "cell_type": "code",
   "execution_count": null,
   "id": "844069ca",
   "metadata": {
    "papermill": {
     "duration": null,
     "end_time": null,
     "exception": null,
     "start_time": null,
     "status": "pending"
    },
    "tags": []
   },
   "outputs": [],
   "source": []
  }
 ],
 "metadata": {
  "kernelspec": {
   "display_name": "Python 3",
   "language": "python",
   "name": "python3"
  },
  "language_info": {
   "codemirror_mode": {
    "name": "ipython",
    "version": 3
   },
   "file_extension": ".py",
   "mimetype": "text/x-python",
   "name": "python",
   "nbconvert_exporter": "python",
   "pygments_lexer": "ipython3",
   "version": "3.7.12"
  },
  "papermill": {
   "default_parameters": {},
   "duration": 13.881087,
   "end_time": "2023-05-03T14:13:21.544237",
   "environment_variables": {},
   "exception": true,
   "input_path": "__notebook__.ipynb",
   "output_path": "__notebook__.ipynb",
   "parameters": {},
   "start_time": "2023-05-03T14:13:07.663150",
   "version": "2.3.4"
  }
 },
 "nbformat": 4,
 "nbformat_minor": 5
}
